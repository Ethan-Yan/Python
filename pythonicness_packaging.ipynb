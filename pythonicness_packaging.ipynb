{
 "cells": [
  {
   "cell_type": "code",
   "execution_count": 1,
   "metadata": {
    "collapsed": false
   },
   "outputs": [
    {
     "name": "stdout",
     "output_type": "stream",
     "text": [
      "The Zen of Python, by Tim Peters\n",
      "\n",
      "Beautiful is better than ugly.\n",
      "Explicit is better than implicit.\n",
      "Simple is better than complex.\n",
      "Complex is better than complicated.\n",
      "Flat is better than nested.\n",
      "Sparse is better than dense.\n",
      "Readability counts.\n",
      "Special cases aren't special enough to break the rules.\n",
      "Although practicality beats purity.\n",
      "Errors should never pass silently.\n",
      "Unless explicitly silenced.\n",
      "In the face of ambiguity, refuse the temptation to guess.\n",
      "There should be one-- and preferably only one --obvious way to do it.\n",
      "Although that way may not be obvious at first unless you're Dutch.\n",
      "Now is better than never.\n",
      "Although never is often better than *right* now.\n",
      "If the implementation is hard to explain, it's a bad idea.\n",
      "If the implementation is easy to explain, it may be a good idea.\n",
      "Namespaces are one honking great idea -- let's do more of those!\n"
     ]
    }
   ],
   "source": [
    "# The Zen of Python \n",
    "\n",
    "import this"
   ]
  },
  {
   "cell_type": "code",
   "execution_count": 2,
   "metadata": {
    "collapsed": true
   },
   "outputs": [],
   "source": [
    "# PEP(Python Enhancement Proposals)\n",
    "\n"
   ]
  },
  {
   "cell_type": "code",
   "execution_count": 3,
   "metadata": {
    "collapsed": false
   },
   "outputs": [
    {
     "name": "stdout",
     "output_type": "stream",
     "text": [
      "1\n",
      "(2, 3, 4, 5)\n"
     ]
    }
   ],
   "source": [
    "# More on Function Arguments\n",
    "\n",
    "# Function Arguments\n",
    "# Using *args as a function parameter enables you to pass an arbitrary number of arguments to that function.\n",
    "# The arguments are then accessible as the tuple args in the body of the function.\n",
    "\n",
    "def function(named_arg, *args):\n",
    "    print(named_arg)\n",
    "    print(args)\n",
    "    \n",
    "function(1, 2, 3, 4, 5)"
   ]
  },
  {
   "cell_type": "code",
   "execution_count": 5,
   "metadata": {
    "collapsed": false
   },
   "outputs": [
    {
     "name": "stdout",
     "output_type": "stream",
     "text": [
      "spam\n",
      "egg\n"
     ]
    }
   ],
   "source": [
    "# Default Values\n",
    "# These must come after named parameters without a dafault value.\n",
    "\n",
    "def function(x, y, food = 'spam'):\n",
    "    print(food)\n",
    "    \n",
    "function(1, 2)\n",
    "function(3, 4, 'egg')"
   ]
  },
  {
   "cell_type": "code",
   "execution_count": 6,
   "metadata": {
    "collapsed": false
   },
   "outputs": [
    {
     "name": "stdout",
     "output_type": "stream",
     "text": [
      "{'a': 7, 'b': 8}\n"
     ]
    }
   ],
   "source": [
    "# Function Arguments\n",
    "# **kwargs(standing for keyword arguments) allows you to handle named arguments that you have not defined in advance.\n",
    "# The keyword arguments return a dictionary in which the keys are the argument names, and the values are the argument values.\n",
    "# The arguments returned by **kwargs are not included in *args.\n",
    "\n",
    "def my_func(x, y = 7, *args, **kwargs):\n",
    "    print(kwargs)\n",
    "    \n",
    "my_func(2, 3, 4, 5, 6, a = 7, b = 8)"
   ]
  },
  {
   "cell_type": "code",
   "execution_count": 7,
   "metadata": {
    "collapsed": false
   },
   "outputs": [
    {
     "name": "stdout",
     "output_type": "stream",
     "text": [
      "1\n",
      "2\n",
      "3\n"
     ]
    }
   ],
   "source": [
    "# Tuple Unpacking\n",
    "# Tuple Unpacking allows you to assign each item in an iterable(often a tuple) to a variable.\n",
    "\n",
    "numbers = (1, 2, 3)\n",
    "a, b, c = numbers\n",
    "print(a)\n",
    "print(b)\n",
    "print(c)"
   ]
  },
  {
   "cell_type": "code",
   "execution_count": 8,
   "metadata": {
    "collapsed": false
   },
   "outputs": [
    {
     "name": "stdout",
     "output_type": "stream",
     "text": [
      "1\n"
     ]
    }
   ],
   "source": [
    "x, y = [1, 2]\n",
    "x, y = y, x\n",
    "print(y)"
   ]
  },
  {
   "cell_type": "code",
   "execution_count": 9,
   "metadata": {
    "collapsed": false
   },
   "outputs": [
    {
     "name": "stdout",
     "output_type": "stream",
     "text": [
      "1\n",
      "2\n",
      "[3, 4, 5, 6, 7, 8]\n",
      "9\n"
     ]
    }
   ],
   "source": [
    "# A variable that is prefaced with an asterisk (*) takes all values from the iterable\n",
    "# that are left over from the other variables.\n",
    "\n",
    "a, b, *c, d = [1, 2, 3, 4, 5, 6, 7, 8, 9]\n",
    "print(a)\n",
    "print(b)\n",
    "print(c)\n",
    "print(d)"
   ]
  },
  {
   "cell_type": "code",
   "execution_count": 10,
   "metadata": {
    "collapsed": false
   },
   "outputs": [
    {
     "name": "stdout",
     "output_type": "stream",
     "text": [
      "1\n"
     ]
    }
   ],
   "source": [
    "# Ternary Operator\n",
    "\n",
    "a = 7\n",
    "b = 1 if a >= 5 else 42\n",
    "print(b)"
   ]
  },
  {
   "cell_type": "code",
   "execution_count": 11,
   "metadata": {
    "collapsed": false
   },
   "outputs": [
    {
     "name": "stdout",
     "output_type": "stream",
     "text": [
      "Logout\n"
     ]
    }
   ],
   "source": [
    "status = 1\n",
    "msg = 'Logout' if status == 1 else 'Login'\n",
    "print(msg)"
   ]
  },
  {
   "cell_type": "code",
   "execution_count": 12,
   "metadata": {
    "collapsed": false
   },
   "outputs": [
    {
     "name": "stdout",
     "output_type": "stream",
     "text": [
      "Unbroken 1\n",
      "Unbroken 1\n",
      "Unbroken 1\n",
      "Unbroken 1\n",
      "Unbroken 1\n",
      "Unbroken 1\n",
      "Unbroken 1\n",
      "Unbroken 1\n",
      "Unbroken 1\n",
      "Unbroken 1\n",
      "Unbroken 2\n",
      "Unbroken 2\n",
      "Unbroken 2\n",
      "Unbroken 2\n",
      "Unbroken 2\n"
     ]
    }
   ],
   "source": [
    "# More on else Statements\n",
    "\n",
    "# else\n",
    "\n",
    "for i in range(10):\n",
    "    if i == 999:\n",
    "        break\n",
    "    else:\n",
    "        print('Unbroken 1')\n",
    "        \n",
    "for i in range(10):\n",
    "    if i == 5:\n",
    "        break\n",
    "    else:\n",
    "        print('Unbroken 2')"
   ]
  },
  {
   "cell_type": "code",
   "execution_count": 13,
   "metadata": {
    "collapsed": false
   },
   "outputs": [
    {
     "name": "stdout",
     "output_type": "stream",
     "text": [
      "6\n"
     ]
    }
   ],
   "source": [
    "for i in range(10):\n",
    "    if i > 5:\n",
    "        print(i)\n",
    "        break\n",
    "else:\n",
    "    print('7')"
   ]
  },
  {
   "cell_type": "code",
   "execution_count": 14,
   "metadata": {
    "collapsed": false
   },
   "outputs": [
    {
     "name": "stdout",
     "output_type": "stream",
     "text": [
      "1\n",
      "3\n",
      "4\n"
     ]
    }
   ],
   "source": [
    "try:\n",
    "    print(1)\n",
    "except ZeroDivisionError:\n",
    "    print(2)\n",
    "else:\n",
    "    print(3)\n",
    "    \n",
    "try:\n",
    "    print(1/0)\n",
    "except ZeroDivisionError:\n",
    "    print(4)\n",
    "else:\n",
    "    print(5)"
   ]
  },
  {
   "cell_type": "code",
   "execution_count": 15,
   "metadata": {
    "collapsed": false
   },
   "outputs": [
    {
     "name": "stdout",
     "output_type": "stream",
     "text": [
      "1\n",
      "3\n"
     ]
    }
   ],
   "source": [
    "try:\n",
    "    print(1)\n",
    "    print(1 + '1' == 2)\n",
    "    print(2)\n",
    "except TypeError:\n",
    "    print(3)\n",
    "else:\n",
    "    print(4)"
   ]
  },
  {
   "cell_type": "code",
   "execution_count": 16,
   "metadata": {
    "collapsed": false
   },
   "outputs": [
    {
     "name": "stdout",
     "output_type": "stream",
     "text": [
      "This is a script\n"
     ]
    }
   ],
   "source": [
    "# __main__\n",
    "# if __name__ == '__main__'\n",
    "\n",
    "def function():\n",
    "    print('This is a module function')\n",
    "    \n",
    "if __name__ == '__main__':\n",
    "    print('This is a script')"
   ]
  },
  {
   "cell_type": "code",
   "execution_count": null,
   "metadata": {
    "collapsed": true
   },
   "outputs": [],
   "source": [
    "# sololearn.py\n",
    "# def function():\n",
    "#     print('This is a module function')\n",
    "    \n",
    "# if __name__ == '__main__':\n",
    "#     print('This is a script')\n",
    "\n",
    "import sololearn\n",
    " sololearn.function()"
   ]
  },
  {
   "cell_type": "code",
   "execution_count": null,
   "metadata": {
    "collapsed": true
   },
   "outputs": [],
   "source": [
    "# Below code will print 'Welcom' if the script is imported, and 'Hi' if it is not imported.\n",
    "\n",
    "if __name__ == '__main__':\n",
    "    print('Hi')\n",
    "else:\n",
    "    print('Welcome')"
   ]
  },
  {
   "cell_type": "code",
   "execution_count": 27,
   "metadata": {
    "collapsed": false
   },
   "outputs": [],
   "source": [
    "# Major 3rd-Party Libaries\n",
    "\n",
    "# Django\n",
    "# CherryPy and Flask\n",
    "# BeautifulSoup\n",
    "\n",
    "# matplotlib\n",
    "# Numpy\n",
    "# Scipy"
   ]
  },
  {
   "cell_type": "code",
   "execution_count": null,
   "metadata": {
    "collapsed": true
   },
   "outputs": [],
   "source": [
    "# Packages\n",
    "# __init__.py\n",
    "# setup.py\n",
    "\n",
    "# Packaging for users\n"
   ]
  },
  {
   "cell_type": "code",
   "execution_count": 29,
   "metadata": {
    "collapsed": false
   },
   "outputs": [
    {
     "name": "stdout",
     "output_type": "stream",
     "text": [
      "1\n",
      "2\n",
      "2\n",
      "2\n",
      "2\n"
     ]
    }
   ],
   "source": [
    "for i in range(10):\n",
    "    try:\n",
    "        if 10/i == 2.0:\n",
    "            break\n",
    "    except ZeroDivisionError:\n",
    "        print(1)\n",
    "    else:\n",
    "        print(2)"
   ]
  },
  {
   "cell_type": "code",
   "execution_count": null,
   "metadata": {
    "collapsed": true
   },
   "outputs": [],
   "source": []
  }
 ],
 "metadata": {
  "kernelspec": {
   "display_name": "Python 3",
   "language": "python",
   "name": "python3"
  },
  "language_info": {
   "codemirror_mode": {
    "name": "ipython",
    "version": 3
   },
   "file_extension": ".py",
   "mimetype": "text/x-python",
   "name": "python",
   "nbconvert_exporter": "python",
   "pygments_lexer": "ipython3",
   "version": "3.5.1"
  }
 },
 "nbformat": 4,
 "nbformat_minor": 0
}
