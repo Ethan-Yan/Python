{
 "cells": [
  {
   "cell_type": "markdown",
   "metadata": {},
   "source": [
    "# A Simple Game\n",
    "\n",
    "Object-orientation is very useful when managing different objects and their relations.That is especially useful when you are developing games with different characters and features.\n",
    "\n",
    "Let's look at an example project that shows how classes are used in game development.\n",
    "\n",
    "The game to be developed is an old fashioned text-based advanture game.\n"
   ]
  },
  {
   "cell_type": "code",
   "execution_count": null,
   "metadata": {
    "collapsed": false
   },
   "outputs": [],
   "source": [
    "class GameObject:\n",
    "    class_name = ''\n",
    "    desc = ''\n",
    "    objects = {}\n",
    "\n",
    "    def __init__(self, name):\n",
    "        self.name = name\n",
    "        GameObject.objects[self.class_name] = self\n",
    "\n",
    "    def get_desc(self):\n",
    "        return self.class_name + '\\n' + self.desc\n",
    "\n",
    "class Goblin(GameObject):\n",
    "    def __init__(self, name):\n",
    "        self.class_name = 'goblin'\n",
    "        self.health = 3\n",
    "        self._desc = 'A foul creature'\n",
    "        super().__init__(name)\n",
    "        \n",
    "    @property\n",
    "    def desc(self):\n",
    "        if self.health >= 3:\n",
    "            return self._desc\n",
    "        elif self.health == 2:\n",
    "            health_line = 'It has a wound on its knee.'\n",
    "        elif self.health == 1:\n",
    "            health_line = 'Its left arm has been cut off!'\n",
    "        elif self.health <= 0:\n",
    "            health_line = 'It is dead.'\n",
    "        return self._desc + '\\n' + health_line\n",
    "    \n",
    "    @desc.setter\n",
    "    def desc(self, value):\n",
    "        self._desc = value\n",
    "\n",
    "goblin = Goblin('Gobbly')\n",
    "\n",
    "def get_input():\n",
    "    command = input(': ').split() \n",
    "    verb_word = command[0]\n",
    "    if verb_word in verb_dict:\n",
    "        verb = verb_dict[verb_word]\n",
    "    else:\n",
    "        print('Unknown verb{}'.format(verb_word))\n",
    "        return\n",
    "    \n",
    "    if len(command) >= 2:\n",
    "        noun_word = command[1]\n",
    "        print(verb(noun_word))\n",
    "    else:\n",
    "        print(verb)\n",
    "        \n",
    "def say(noun):\n",
    "    return 'You said \"{}\"'.format(noun)\n",
    "\n",
    "def examine(noun):\n",
    "    if noun in GameObject.objects:\n",
    "        return GameObject.objects[noun].get_desc()\n",
    "    else:\n",
    "        return 'There is no {} here.'.format(noun)\n",
    "\n",
    "def hit(noun):\n",
    "    if noun in GameObject.objects:\n",
    "        thing = GameObject.objects[noun]\n",
    "        if type(thing) == Goblin:\n",
    "            thing.health = thing.health - 1\n",
    "            if thing.health <= 0:\n",
    "                msg = 'You killed the goblin!'\n",
    "            else:\n",
    "                msg = 'You hit the {}'.format(thing.class_name)\n",
    "        else:\n",
    "            msg = 'There is no {} here.'.format(noun)\n",
    "        return msg\n",
    "    \n",
    "verb_dict = {\n",
    "    'say': say,\n",
    "    'examine': examine,\n",
    "    'hit': hit\n",
    "}\n",
    "    \n",
    "while True:\n",
    "    get_input()"
   ]
  },
  {
   "cell_type": "code",
   "execution_count": null,
   "metadata": {
    "collapsed": true
   },
   "outputs": [],
   "source": []
  }
 ],
 "metadata": {
  "kernelspec": {
   "display_name": "Python 3",
   "language": "python",
   "name": "python3"
  },
  "language_info": {
   "codemirror_mode": {
    "name": "ipython",
    "version": 3
   },
   "file_extension": ".py",
   "mimetype": "text/x-python",
   "name": "python",
   "nbconvert_exporter": "python",
   "pygments_lexer": "ipython3",
   "version": "3.5.1"
  }
 },
 "nbformat": 4,
 "nbformat_minor": 0
}
