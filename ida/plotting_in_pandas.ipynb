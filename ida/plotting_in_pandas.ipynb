{
 "cells": [
  {
   "cell_type": "markdown",
   "metadata": {},
   "source": [
    "Plotting in Pandas\n",
    "\n",
    "If the variable data is a NumPy array or a Pandas Series, just like if it is a list, the code\n",
    "\n",
    "import matplotlib.pyplot as plt\n",
    "plt.hist(data)\n",
    "will create a histogram of the data.\n",
    "\n",
    "Pandas also has built-in plotting that uses matplotlib behind the scenes, so if data is a Series, you can create a histogram using data.hist().\n",
    "\n",
    "There's no difference between these two in this case, but sometimes the Pandas wrapper can be more convenient. For example, you can make a line plot of a series using data.plot(). The index of the Series will be used for the x-axis and the values for the y-axis.\n",
    "\n",
    "In the following quiz, we've created Series containing the various variables we've been looking at this lesson. Pick a country you're interested in, and make a plot of each variable over time.\n",
    "\n",
    "The Udacity editor will only show one plot each time you click \"Test Run\", so you can look at multiple plots by clicking \"Test Run\" multiple times. If you're running plotting code locally, you may need to add the line plt.show() depending on your setup."
   ]
  },
  {
   "cell_type": "code",
   "execution_count": 1,
   "metadata": {
    "collapsed": true
   },
   "outputs": [],
   "source": [
    "import pandas as pd\n",
    "\n",
    "employment = pd.read_csv('employment_above_15.csv',\n",
    "                         index_col='Country')\n",
    "female_completion = pd.read_csv('female_completion_rate.csv',\n",
    "                                index_col='Country')\n",
    "male_completion = pd.read_csv('male_completion_rate.csv',\n",
    "                              index_col='Country')\n",
    "life_expectancy = pd.read_csv('life_expectancy.csv',\n",
    "                              index_col='Country')\n",
    "gdp = pd.read_csv('gdp_per_capita.csv',\n",
    "                  index_col='Country')"
   ]
  },
  {
   "cell_type": "code",
   "execution_count": 2,
   "metadata": {
    "collapsed": true
   },
   "outputs": [],
   "source": [
    "employment_us = employment.loc['United States']\n",
    "female_completion_us = female_completion.loc['United States']\n",
    "male_completion_us = male_completion.loc['United States']\n",
    "life_expectancy_us = life_expectancy.loc['United States']\n",
    "gdp_us = gdp.loc['United States']"
   ]
  },
  {
   "cell_type": "code",
   "execution_count": 3,
   "metadata": {
    "collapsed": false
   },
   "outputs": [
    {
     "name": "stdout",
     "output_type": "stream",
     "text": [
      "Populating the interactive namespace from numpy and matplotlib\n"
     ]
    },
    {
     "data": {
      "text/plain": [
       "<matplotlib.axes._subplots.AxesSubplot at 0x68a1930>"
      ]
     },
     "execution_count": 3,
     "metadata": {},
     "output_type": "execute_result"
    },
    {
     "data": {
      "image/png": "[encoded data removed]",
      "text/plain": [
       "<matplotlib.figure.Figure at 0x6886f30>"
      ]
     },
     "metadata": {},
     "output_type": "display_data"
    }
   ],
   "source": [
    "%pylab inline\n",
    "employment_us.plot()"
   ]
  },
  {
   "cell_type": "code",
   "execution_count": null,
   "metadata": {
    "collapsed": true
   },
   "outputs": [],
   "source": []
  }
 ],
 "metadata": {
  "kernelspec": {
   "display_name": "Python 3",
   "language": "python",
   "name": "python3"
  },
  "language_info": {
   "codemirror_mode": {
    "name": "ipython",
    "version": 3
   },
   "file_extension": ".py",
   "mimetype": "text/x-python",
   "name": "python",
   "nbconvert_exporter": "python",
   "pygments_lexer": "ipython3",
   "version": "3.5.1"
  }
 },
 "nbformat": 4,
 "nbformat_minor": 0
}
