{
 "cells": [
  {
   "cell_type": "code",
   "execution_count": 1,
   "metadata": {
    "collapsed": false
   },
   "outputs": [
    {
     "name": "stdout",
     "output_type": "stream",
     "text": [
      "['Cleese', 'Palin', 'Jones', 'Idle']\n"
     ]
    }
   ],
   "source": [
    "# list\n",
    "cast = ['Cleese', 'Palin', 'Jones', 'Idle']\n",
    "print(cast)"
   ]
  },
  {
   "cell_type": "code",
   "execution_count": 2,
   "metadata": {
    "collapsed": false
   },
   "outputs": [
    {
     "name": "stdout",
     "output_type": "stream",
     "text": [
      "4\n"
     ]
    }
   ],
   "source": [
    "print(len(cast))"
   ]
  },
  {
   "cell_type": "code",
   "execution_count": 3,
   "metadata": {
    "collapsed": false
   },
   "outputs": [
    {
     "name": "stdout",
     "output_type": "stream",
     "text": [
      "Palin\n"
     ]
    }
   ],
   "source": [
    "print(cast[1])"
   ]
  },
  {
   "cell_type": "code",
   "execution_count": 4,
   "metadata": {
    "collapsed": false
   },
   "outputs": [
    {
     "name": "stdout",
     "output_type": "stream",
     "text": [
      "['Cleese', 'Palin', 'Jones', 'Idle', 'Gilliam']\n"
     ]
    }
   ],
   "source": [
    "cast.append('Gilliam')\n",
    "print(cast)"
   ]
  },
  {
   "cell_type": "code",
   "execution_count": 5,
   "metadata": {
    "collapsed": false
   },
   "outputs": [
    {
     "data": {
      "text/plain": [
       "'Gilliam'"
      ]
     },
     "execution_count": 5,
     "metadata": {},
     "output_type": "execute_result"
    }
   ],
   "source": [
    "cast.pop()"
   ]
  },
  {
   "cell_type": "code",
   "execution_count": 6,
   "metadata": {
    "collapsed": false
   },
   "outputs": [
    {
     "name": "stdout",
     "output_type": "stream",
     "text": [
      "['Cleese', 'Palin', 'Jones', 'Idle']\n"
     ]
    }
   ],
   "source": [
    "print(cast)"
   ]
  },
  {
   "cell_type": "code",
   "execution_count": 7,
   "metadata": {
    "collapsed": false
   },
   "outputs": [
    {
     "name": "stdout",
     "output_type": "stream",
     "text": [
      "['Cleese', 'Palin', 'Jones', 'Idle', 'Gilliam', 'Chapman']\n"
     ]
    }
   ],
   "source": [
    "cast.extend(['Gilliam', 'Chapman'])\n",
    "print(cast)"
   ]
  },
  {
   "cell_type": "code",
   "execution_count": 8,
   "metadata": {
    "collapsed": false
   },
   "outputs": [
    {
     "name": "stdout",
     "output_type": "stream",
     "text": [
      "['Cleese', 'Palin', 'Jones', 'Idle', 'Gilliam']\n"
     ]
    }
   ],
   "source": [
    "cast.remove('Chapman')\n",
    "print(cast)"
   ]
  },
  {
   "cell_type": "code",
   "execution_count": 9,
   "metadata": {
    "collapsed": false
   },
   "outputs": [
    {
     "name": "stdout",
     "output_type": "stream",
     "text": [
      "['Chapman', 'Cleese', 'Palin', 'Jones', 'Idle', 'Gilliam']\n"
     ]
    }
   ],
   "source": [
    "cast.insert(0, 'Chapman')\n",
    "print(cast)"
   ]
  },
  {
   "cell_type": "code",
   "execution_count": 10,
   "metadata": {
    "collapsed": false
   },
   "outputs": [
    {
     "name": "stdout",
     "output_type": "stream",
     "text": [
      "['The Holy Grail', 1975, 'The Life of Brian', 1979, 'The Meaning of Life', 1983]\n"
     ]
    }
   ],
   "source": [
    "movies = ['The Holy Grail', 1975,\n",
    "         'The Life of Brian', 1979,\n",
    "         'The Meaning of Life', 1983]\n",
    "print(movies)"
   ]
  },
  {
   "cell_type": "code",
   "execution_count": 11,
   "metadata": {
    "collapsed": false
   },
   "outputs": [
    {
     "name": "stdout",
     "output_type": "stream",
     "text": [
      "The Holy Grail\n",
      "The Life of Brian\n"
     ]
    }
   ],
   "source": [
    "fav_movies = ['The Holy Grail', 'The Life of Brian']\n",
    "print(fav_movies[0])\n",
    "print(fav_movies[1])"
   ]
  },
  {
   "cell_type": "code",
   "execution_count": 12,
   "metadata": {
    "collapsed": false
   },
   "outputs": [
    {
     "name": "stdout",
     "output_type": "stream",
     "text": [
      "The Holy Grail\n",
      "The Life of Brian\n"
     ]
    }
   ],
   "source": [
    "for each_flick in fav_movies:\n",
    "    print(each_flick)"
   ]
  },
  {
   "cell_type": "code",
   "execution_count": 13,
   "metadata": {
    "collapsed": false
   },
   "outputs": [
    {
     "name": "stdout",
     "output_type": "stream",
     "text": [
      "The Holy Grail\n",
      "1975\n",
      "The Life of Brian\n",
      "1979\n",
      "The Meaning of Life\n",
      "1983\n"
     ]
    }
   ],
   "source": [
    "count = 0\n",
    "while count < len(movies):\n",
    "    print(movies[count])\n",
    "    count += 1"
   ]
  },
  {
   "cell_type": "code",
   "execution_count": 14,
   "metadata": {
    "collapsed": false
   },
   "outputs": [
    {
     "name": "stdout",
     "output_type": "stream",
     "text": [
      "The Holy Grail\n",
      "1975\n",
      "The Life of Brian\n",
      "1979\n",
      "The Meaning of Life\n",
      "1983\n"
     ]
    }
   ],
   "source": [
    "for each_item in movies:\n",
    "    print(each_item)"
   ]
  },
  {
   "cell_type": "code",
   "execution_count": 1,
   "metadata": {
    "collapsed": false
   },
   "outputs": [
    {
     "name": "stdout",
     "output_type": "stream",
     "text": [
      "['The Holy Grail', 1975, 'Terry Jones & Terry Gilliam', 91, ['Graham Chapman', ['Michael Palin', 'John Cleese', 'Terry Gilliam', 'Eric Idle', 'Terry Jones']]]\n"
     ]
    }
   ],
   "source": [
    "movies = ['The Holy Grail', 1975, 'Terry Jones & Terry Gilliam', 91,\n",
    "          ['Graham Chapman',['Michael Palin', 'John Cleese',\n",
    "                             'Terry Gilliam', 'Eric Idle', 'Terry Jones']]]\n",
    "print(movies)"
   ]
  },
  {
   "cell_type": "code",
   "execution_count": 16,
   "metadata": {
    "collapsed": false
   },
   "outputs": [
    {
     "name": "stdout",
     "output_type": "stream",
     "text": [
      "Eric Idle\n"
     ]
    }
   ],
   "source": [
    "print(movies[4][1][3])"
   ]
  },
  {
   "cell_type": "code",
   "execution_count": 17,
   "metadata": {
    "collapsed": false
   },
   "outputs": [
    {
     "name": "stdout",
     "output_type": "stream",
     "text": [
      "The Holy Grail\n",
      "1975\n",
      "Terry Jones & Terry Gilliam\n",
      "91\n",
      "['Graham Chapman', ['Michael Palin', 'John Cleese', 'Terry Gilliam', 'Eric Idle', 'Terry Jones']]\n"
     ]
    }
   ],
   "source": [
    "for each_item in movies:\n",
    "    print(each_item)"
   ]
  },
  {
   "cell_type": "code",
   "execution_count": 19,
   "metadata": {
    "collapsed": false
   },
   "outputs": [
    {
     "data": {
      "text/plain": [
       "True"
      ]
     },
     "execution_count": 19,
     "metadata": {},
     "output_type": "execute_result"
    }
   ],
   "source": [
    "names = ['Michael', 'Terry']\n",
    "isinstance(names, list)"
   ]
  },
  {
   "cell_type": "code",
   "execution_count": 20,
   "metadata": {
    "collapsed": false
   },
   "outputs": [
    {
     "data": {
      "text/plain": [
       "False"
      ]
     },
     "execution_count": 20,
     "metadata": {},
     "output_type": "execute_result"
    }
   ],
   "source": [
    "num_names = len(names)\n",
    "isinstance(num_names, list)"
   ]
  },
  {
   "cell_type": "code",
   "execution_count": 21,
   "metadata": {
    "collapsed": false
   },
   "outputs": [
    {
     "name": "stdout",
     "output_type": "stream",
     "text": [
      "The Holy Grail\n",
      "1975\n",
      "Terry Jones & Terry Gilliam\n",
      "91\n",
      "Graham Chapman\n",
      "['Michael Palin', 'John Cleese', 'Terry Gilliam', 'Eric Idle', 'Terry Jones']\n"
     ]
    }
   ],
   "source": [
    "for each_item in movies:\n",
    "    if isinstance(each_item, list):\n",
    "        for nested_item in each_item:\n",
    "            print(nested_item)\n",
    "    else:\n",
    "        print(each_item)"
   ]
  },
  {
   "cell_type": "code",
   "execution_count": 22,
   "metadata": {
    "collapsed": false
   },
   "outputs": [
    {
     "name": "stdout",
     "output_type": "stream",
     "text": [
      "The Holy Grail\n",
      "1975\n",
      "Terry Jones & Terry Gilliam\n",
      "91\n",
      "Graham Chapman\n",
      "Michael Palin\n",
      "John Cleese\n",
      "Terry Gilliam\n",
      "Eric Idle\n",
      "Terry Jones\n"
     ]
    }
   ],
   "source": [
    "for each_item in movies:\n",
    "    if isinstance(each_item, list):\n",
    "        for nested_item in each_item:\n",
    "            if isinstance(nested_item, list):\n",
    "                for deeper_item in nested_item:\n",
    "                    print(deeper_item)\n",
    "            else:\n",
    "                print(nested_item)\n",
    "    else:\n",
    "        print(each_item)"
   ]
  },
  {
   "cell_type": "code",
   "execution_count": 2,
   "metadata": {
    "collapsed": false
   },
   "outputs": [
    {
     "name": "stdout",
     "output_type": "stream",
     "text": [
      "The Holy Grail\n",
      "1975\n",
      "Terry Jones & Terry Gilliam\n",
      "91\n",
      "Graham Chapman\n",
      "Michael Palin\n",
      "John Cleese\n",
      "Terry Gilliam\n",
      "Eric Idle\n",
      "Terry Jones\n"
     ]
    }
   ],
   "source": [
    "def print_lol(the_list):\n",
    "    for each_item in the_list:\n",
    "        if isinstance(each_item, list):\n",
    "            print_lol(each_item)\n",
    "        else:\n",
    "            print(each_item)\n",
    "\n",
    "print_lol(movies)"
   ]
  },
  {
   "cell_type": "code",
   "execution_count": 1,
   "metadata": {
    "collapsed": true
   },
   "outputs": [],
   "source": [
    "# file & exception\n",
    "import os"
   ]
  },
  {
   "cell_type": "code",
   "execution_count": 2,
   "metadata": {
    "collapsed": false
   },
   "outputs": [
    {
     "data": {
      "text/plain": [
       "'D:\\\\ds\\\\Python\\\\hfpy'"
      ]
     },
     "execution_count": 2,
     "metadata": {},
     "output_type": "execute_result"
    }
   ],
   "source": [
    "os.getcwd()"
   ]
  },
  {
   "cell_type": "code",
   "execution_count": 3,
   "metadata": {
    "collapsed": true
   },
   "outputs": [],
   "source": [
    "os.chdir('D:\\\\ds\\\\Python\\\\hfpy\\\\chapter3')"
   ]
  },
  {
   "cell_type": "code",
   "execution_count": 4,
   "metadata": {
    "collapsed": false
   },
   "outputs": [
    {
     "data": {
      "text/plain": [
       "'D:\\\\ds\\\\Python\\\\hfpy\\\\chapter3'"
      ]
     },
     "execution_count": 4,
     "metadata": {},
     "output_type": "execute_result"
    }
   ],
   "source": [
    "os.getcwd()"
   ]
  },
  {
   "cell_type": "code",
   "execution_count": 6,
   "metadata": {
    "collapsed": false
   },
   "outputs": [],
   "source": [
    "data = open('sketch.txt')"
   ]
  },
  {
   "cell_type": "code",
   "execution_count": 7,
   "metadata": {
    "collapsed": false
   },
   "outputs": [
    {
     "name": "stdout",
     "output_type": "stream",
     "text": [
      "Man: Is this the right room for an argument?\n"
     ]
    }
   ],
   "source": [
    "print(data.readline(), end = '')"
   ]
  },
  {
   "cell_type": "code",
   "execution_count": null,
   "metadata": {
    "collapsed": true
   },
   "outputs": [],
   "source": []
  }
 ],
 "metadata": {
  "kernelspec": {
   "display_name": "Python 3",
   "language": "python",
   "name": "python3"
  },
  "language_info": {
   "codemirror_mode": {
    "name": "ipython",
    "version": 3
   },
   "file_extension": ".py",
   "mimetype": "text/x-python",
   "name": "python",
   "nbconvert_exporter": "python",
   "pygments_lexer": "ipython3",
   "version": "3.5.1"
  }
 },
 "nbformat": 4,
 "nbformat_minor": 0
}
